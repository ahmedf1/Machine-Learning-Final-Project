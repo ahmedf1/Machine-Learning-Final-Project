{
 "cells": [
  {
   "cell_type": "markdown",
   "metadata": {},
   "source": [
    "Clustering using kmeans"
   ]
  },
  {
   "cell_type": "code",
   "execution_count": 78,
   "metadata": {},
   "outputs": [
    {
     "name": "stdout",
     "output_type": "stream",
     "text": [
      "[1265. 1367. 1700. 1889. 1704. 1327. 1511. 2144. 1358. 1147. 1292. 1479.\n",
      " 1116. 1529. 1257. 1388. 1226. 1480. 1781. 1234. 1647. 1556. 1390. 1135.\n",
      " 1176. 1090. 1194. 1252. 1188. 1182. 1121. 1268. 1223. 1214. 1314. 1276.\n",
      " 2041. 1291. 2013. 1255. 1407. 1248. 1240. 1192. 1128. 1327. 1182. 1896.\n",
      " 1216. 1435. 1334. 1188. 1313. 1643. 1179. 1386. 1099. 1327. 1360. 1420.\n",
      " 1322. 1287. 1285. 1451. 1326. 1580. 1386. 1640. 1404. 1313. 1277. 1224.\n",
      " 1290. 1211. 1427. 1335. 1431. 1314. 1256. 1981. 1578. 1530. 1184. 1487.\n",
      " 1326. 1285. 1218. 1214. 1397. 1193. 1410. 1485. 1306. 1457. 1248. 1253.\n",
      " 1346. 1316. 1265. 1622. 1274. 1245. 1409. 1344. 1284. 1355. 1446. 1473.\n",
      " 1141.]\n"
     ]
    }
   ],
   "source": [
    "# Importing Modules\n",
    "from sklearn import datasets\n",
    "import matplotlib.pyplot as plt\n",
    "from sklearn.cluster import KMeans\n",
    "import numpy as np\n",
    "\n",
    "# Loading dataset\n",
    "dataset = np.genfromtxt('HS_Regents_Sat_Scores_2015_v2.csv', delimiter=',')\n",
    "X = dataset[1:,4:] \n",
    "Y = dataset[1:, -1]\n",
    "\n",
    "print(Y)\n",
    "#ranges = [(0, 7), (12, 15)]\n",
    "#print ([item for start, end in ranges for item in X[:,start:end]])\n",
    "\n",
    "\n"
   ]
  },
  {
   "cell_type": "code",
   "execution_count": 79,
   "metadata": {},
   "outputs": [
    {
     "name": "stdout",
     "output_type": "stream",
     "text": [
      "[[  60.48536585   75.13414634   68.32926829   71.20731707   68.86585366\n",
      "    73.57073171   66.73414634   67.87317073  477.12195122  454.75609756\n",
      "   450.51219512 1382.3902439 ]\n",
      " [  86.71666667   91.01666667   89.51666667   93.48333333   89.71666667\n",
      "    92.7          85.26666667   86.25        690.          649.\n",
      "   655.         1994.        ]\n",
      " [  54.21836735   68.82857143   62.05714286   64.23469388   65.32244898\n",
      "    67.43877551   61.41836735   61.31020408  415.08163265  405.40816327\n",
      "   398.04081633 1218.53061224]\n",
      " [  75.03846154   80.98461538   78.72307692   81.70769231   73.40769231\n",
      "    82.63076923   73.86923077   74.32307692  566.38461538  523.07692308\n",
      "   527.53846154 1617.        ]]\n"
     ]
    },
    {
     "data": {
      "text/plain": [
       "<matplotlib.collections.PathCollection at 0x11e454b00>"
      ]
     },
     "execution_count": 79,
     "metadata": {},
     "output_type": "execute_result"
    },
    {
     "data": {
      "image/png": "[encoded data removed]",
      "text/plain": [
       "<Figure size 432x288 with 1 Axes>"
      ]
     },
     "metadata": {
      "needs_background": "light"
     },
     "output_type": "display_data"
    }
   ],
   "source": [
    "\n",
    "# create kmeans object\n",
    "kmeans = KMeans(n_clusters=4)\n",
    "# fit kmeans object to data\n",
    "kmeans.fit(X)\n",
    "# print location of clusters learned by kmeans object\n",
    "print(kmeans.cluster_centers_)\n",
    "# save new clusters for chart\n",
    "y_km = kmeans.fit_predict(X)\n",
    "\n",
    "plt.scatter(X[y_km ==0,0], X[y_km == 0,1], s=100, c='red')\n",
    "plt.scatter(X[y_km ==1,0], X[y_km == 1,1], s=100, c='black')\n",
    "plt.scatter(X[y_km ==2,0], X[y_km == 2,1], s=100, c='blue')\n",
    "plt.scatter(X[y_km ==3,0], X[y_km == 3,1], s=100, c='cyan')\n",
    "\n"
   ]
  },
  {
   "cell_type": "code",
   "execution_count": 58,
   "metadata": {},
   "outputs": [
    {
     "name": "stdout",
     "output_type": "stream",
     "text": [
      "[[52.6]\n",
      " [64.2]\n",
      " [77. ]\n",
      " [81.2]\n",
      " [81.4]\n",
      " [64. ]\n",
      " [84.3]\n",
      " [92.9]\n",
      " [48.5]\n",
      " [51.3]\n",
      " [45.9]\n",
      " [67.8]\n",
      " [64.3]\n",
      " [81.9]\n",
      " [56. ]\n",
      " [54.9]\n",
      " [81.7]\n",
      " [61.5]\n",
      " [73.4]\n",
      " [42.4]\n",
      " [81.4]\n",
      " [76.9]\n",
      " [58.2]\n",
      " [55. ]\n",
      " [39.4]\n",
      " [60. ]\n",
      " [40.4]\n",
      " [62.3]\n",
      " [58.8]\n",
      " [53.9]\n",
      " [37.8]\n",
      " [45.7]\n",
      " [52.2]\n",
      " [51.1]\n",
      " [43.8]\n",
      " [53.8]\n",
      " [87.5]\n",
      " [60.8]\n",
      " [85.4]\n",
      " [47.1]\n",
      " [56.4]\n",
      " [55.6]\n",
      " [47.6]\n",
      " [54.2]\n",
      " [62.4]\n",
      " [57.2]\n",
      " [40.2]\n",
      " [82.6]\n",
      " [47. ]\n",
      " [58.5]\n",
      " [55.8]\n",
      " [33.6]\n",
      " [62.7]\n",
      " [67. ]\n",
      " [56.1]\n",
      " [57.5]\n",
      " [51.9]\n",
      " [69.7]\n",
      " [57.1]\n",
      " [67.2]\n",
      " [73.5]\n",
      " [58.1]\n",
      " [72.7]\n",
      " [56.4]\n",
      " [52.7]\n",
      " [68.9]\n",
      " [67.3]\n",
      " [74. ]\n",
      " [68.7]\n",
      " [59.7]\n",
      " [71.1]\n",
      " [49.5]\n",
      " [56.4]\n",
      " [50. ]\n",
      " [59.9]\n",
      " [47.6]\n",
      " [67.9]\n",
      " [55.4]\n",
      " [72.3]\n",
      " [90.7]\n",
      " [67. ]\n",
      " [77.8]\n",
      " [50. ]\n",
      " [62.8]\n",
      " [61.7]\n",
      " [56.5]\n",
      " [44.5]\n",
      " [59.7]\n",
      " [63. ]\n",
      " [69.1]\n",
      " [63.5]\n",
      " [73.4]\n",
      " [58.8]\n",
      " [77.7]\n",
      " [48. ]\n",
      " [43.7]\n",
      " [52.3]\n",
      " [62.4]\n",
      " [41.2]\n",
      " [64.5]\n",
      " [75.1]\n",
      " [67. ]\n",
      " [53.8]\n",
      " [58.1]\n",
      " [57.9]\n",
      " [54.5]\n",
      " [61.5]\n",
      " [62.3]\n",
      " [52.8]]\n",
      "{'0', '1'}\n"
     ]
    },
    {
     "ename": "TypeError",
     "evalue": "float() argument must be a string or a number, not 'set'",
     "output_type": "error",
     "traceback": [
      "\u001b[0;31m---------------------------------------------------------------------------\u001b[0m",
      "\u001b[0;31mTypeError\u001b[0m                                 Traceback (most recent call last)",
      "\u001b[0;32m<ipython-input-58-b9b585b49f01>\u001b[0m in \u001b[0;36m<module>\u001b[0;34m()\u001b[0m\n\u001b[1;32m     22\u001b[0m \u001b[0mprint\u001b[0m\u001b[0;34m(\u001b[0m\u001b[0my\u001b[0m\u001b[0;34m)\u001b[0m\u001b[0;34m\u001b[0m\u001b[0m\n\u001b[1;32m     23\u001b[0m \u001b[0;31m# Plotting\u001b[0m\u001b[0;34m\u001b[0m\u001b[0;34m\u001b[0m\u001b[0m\n\u001b[0;32m---> 24\u001b[0;31m \u001b[0mplt\u001b[0m\u001b[0;34m.\u001b[0m\u001b[0mscatter\u001b[0m\u001b[0;34m(\u001b[0m\u001b[0mx\u001b[0m\u001b[0;34m,\u001b[0m \u001b[0mx2\u001b[0m\u001b[0;34m,\u001b[0m \u001b[0mc\u001b[0m\u001b[0;34m=\u001b[0m\u001b[0my\u001b[0m\u001b[0;34m)\u001b[0m\u001b[0;34m\u001b[0m\u001b[0m\n\u001b[0m\u001b[1;32m     25\u001b[0m \u001b[0mplt\u001b[0m\u001b[0;34m.\u001b[0m\u001b[0mshow\u001b[0m\u001b[0;34m(\u001b[0m\u001b[0;34m)\u001b[0m\u001b[0;34m\u001b[0m\u001b[0m\n",
      "\u001b[0;32m/Library/Frameworks/Python.framework/Versions/3.6/lib/python3.6/site-packages/matplotlib/pyplot.py\u001b[0m in \u001b[0;36mscatter\u001b[0;34m(x, y, s, c, marker, cmap, norm, vmin, vmax, alpha, linewidths, verts, edgecolors, hold, data, **kwargs)\u001b[0m\n\u001b[1;32m   3473\u001b[0m                          \u001b[0mvmin\u001b[0m\u001b[0;34m=\u001b[0m\u001b[0mvmin\u001b[0m\u001b[0;34m,\u001b[0m \u001b[0mvmax\u001b[0m\u001b[0;34m=\u001b[0m\u001b[0mvmax\u001b[0m\u001b[0;34m,\u001b[0m \u001b[0malpha\u001b[0m\u001b[0;34m=\u001b[0m\u001b[0malpha\u001b[0m\u001b[0;34m,\u001b[0m\u001b[0;34m\u001b[0m\u001b[0m\n\u001b[1;32m   3474\u001b[0m                          \u001b[0mlinewidths\u001b[0m\u001b[0;34m=\u001b[0m\u001b[0mlinewidths\u001b[0m\u001b[0;34m,\u001b[0m \u001b[0mverts\u001b[0m\u001b[0;34m=\u001b[0m\u001b[0mverts\u001b[0m\u001b[0;34m,\u001b[0m\u001b[0;34m\u001b[0m\u001b[0m\n\u001b[0;32m-> 3475\u001b[0;31m                          edgecolors=edgecolors, data=data, **kwargs)\n\u001b[0m\u001b[1;32m   3476\u001b[0m     \u001b[0;32mfinally\u001b[0m\u001b[0;34m:\u001b[0m\u001b[0;34m\u001b[0m\u001b[0m\n\u001b[1;32m   3477\u001b[0m         \u001b[0max\u001b[0m\u001b[0;34m.\u001b[0m\u001b[0m_hold\u001b[0m \u001b[0;34m=\u001b[0m \u001b[0mwashold\u001b[0m\u001b[0;34m\u001b[0m\u001b[0m\n",
      "\u001b[0;32m/Library/Frameworks/Python.framework/Versions/3.6/lib/python3.6/site-packages/matplotlib/__init__.py\u001b[0m in \u001b[0;36minner\u001b[0;34m(ax, *args, **kwargs)\u001b[0m\n\u001b[1;32m   1865\u001b[0m                         \u001b[0;34m\"the Matplotlib list!)\"\u001b[0m \u001b[0;34m%\u001b[0m \u001b[0;34m(\u001b[0m\u001b[0mlabel_namer\u001b[0m\u001b[0;34m,\u001b[0m \u001b[0mfunc\u001b[0m\u001b[0;34m.\u001b[0m\u001b[0m__name__\u001b[0m\u001b[0;34m)\u001b[0m\u001b[0;34m,\u001b[0m\u001b[0;34m\u001b[0m\u001b[0m\n\u001b[1;32m   1866\u001b[0m                         RuntimeWarning, stacklevel=2)\n\u001b[0;32m-> 1867\u001b[0;31m             \u001b[0;32mreturn\u001b[0m \u001b[0mfunc\u001b[0m\u001b[0;34m(\u001b[0m\u001b[0max\u001b[0m\u001b[0;34m,\u001b[0m \u001b[0;34m*\u001b[0m\u001b[0margs\u001b[0m\u001b[0;34m,\u001b[0m \u001b[0;34m**\u001b[0m\u001b[0mkwargs\u001b[0m\u001b[0;34m)\u001b[0m\u001b[0;34m\u001b[0m\u001b[0m\n\u001b[0m\u001b[1;32m   1868\u001b[0m \u001b[0;34m\u001b[0m\u001b[0m\n\u001b[1;32m   1869\u001b[0m         inner.__doc__ = _add_data_doc(inner.__doc__,\n",
      "\u001b[0;32m/Library/Frameworks/Python.framework/Versions/3.6/lib/python3.6/site-packages/matplotlib/axes/_axes.py\u001b[0m in \u001b[0;36mscatter\u001b[0;34m(self, x, y, s, c, marker, cmap, norm, vmin, vmax, alpha, linewidths, verts, edgecolors, **kwargs)\u001b[0m\n\u001b[1;32m   4273\u001b[0m         \u001b[0;32melse\u001b[0m\u001b[0;34m:\u001b[0m\u001b[0;34m\u001b[0m\u001b[0m\n\u001b[1;32m   4274\u001b[0m             \u001b[0;32mtry\u001b[0m\u001b[0;34m:\u001b[0m\u001b[0;34m\u001b[0m\u001b[0m\n\u001b[0;32m-> 4275\u001b[0;31m                 \u001b[0mc_array\u001b[0m \u001b[0;34m=\u001b[0m \u001b[0mnp\u001b[0m\u001b[0;34m.\u001b[0m\u001b[0masanyarray\u001b[0m\u001b[0;34m(\u001b[0m\u001b[0mc\u001b[0m\u001b[0;34m,\u001b[0m \u001b[0mdtype\u001b[0m\u001b[0;34m=\u001b[0m\u001b[0mfloat\u001b[0m\u001b[0;34m)\u001b[0m\u001b[0;34m\u001b[0m\u001b[0m\n\u001b[0m\u001b[1;32m   4276\u001b[0m                 \u001b[0;32mif\u001b[0m \u001b[0mc_array\u001b[0m\u001b[0;34m.\u001b[0m\u001b[0mshape\u001b[0m \u001b[0;32min\u001b[0m \u001b[0mxy_shape\u001b[0m\u001b[0;34m:\u001b[0m\u001b[0;34m\u001b[0m\u001b[0m\n\u001b[1;32m   4277\u001b[0m                     \u001b[0mc\u001b[0m \u001b[0;34m=\u001b[0m \u001b[0mnp\u001b[0m\u001b[0;34m.\u001b[0m\u001b[0mma\u001b[0m\u001b[0;34m.\u001b[0m\u001b[0mravel\u001b[0m\u001b[0;34m(\u001b[0m\u001b[0mc_array\u001b[0m\u001b[0;34m)\u001b[0m\u001b[0;34m\u001b[0m\u001b[0m\n",
      "\u001b[0;32m/Library/Frameworks/Python.framework/Versions/3.6/lib/python3.6/site-packages/numpy/core/numeric.py\u001b[0m in \u001b[0;36masanyarray\u001b[0;34m(a, dtype, order)\u001b[0m\n\u001b[1;32m    551\u001b[0m \u001b[0;34m\u001b[0m\u001b[0m\n\u001b[1;32m    552\u001b[0m     \"\"\"\n\u001b[0;32m--> 553\u001b[0;31m     \u001b[0;32mreturn\u001b[0m \u001b[0marray\u001b[0m\u001b[0;34m(\u001b[0m\u001b[0ma\u001b[0m\u001b[0;34m,\u001b[0m \u001b[0mdtype\u001b[0m\u001b[0;34m,\u001b[0m \u001b[0mcopy\u001b[0m\u001b[0;34m=\u001b[0m\u001b[0;32mFalse\u001b[0m\u001b[0;34m,\u001b[0m \u001b[0morder\u001b[0m\u001b[0;34m=\u001b[0m\u001b[0morder\u001b[0m\u001b[0;34m,\u001b[0m \u001b[0msubok\u001b[0m\u001b[0;34m=\u001b[0m\u001b[0;32mTrue\u001b[0m\u001b[0;34m)\u001b[0m\u001b[0;34m\u001b[0m\u001b[0m\n\u001b[0m\u001b[1;32m    554\u001b[0m \u001b[0;34m\u001b[0m\u001b[0m\n\u001b[1;32m    555\u001b[0m \u001b[0;34m\u001b[0m\u001b[0m\n",
      "\u001b[0;31mTypeError\u001b[0m: float() argument must be a string or a number, not 'set'"
     ]
    },
    {
     "data": {
      "image/png": "[encoded data removed]",
      "text/plain": [
       "<Figure size 432x288 with 1 Axes>"
      ]
     },
     "metadata": {
      "needs_background": "light"
     },
     "output_type": "display_data"
    }
   ],
   "source": [
    "\n",
    "# Available methods on dataset\n",
    "#print(dir(iris_df))\n",
    "\n",
    "# Features\n",
    "#print(iris_df.feature_names)\n",
    "\n",
    "# Targets\n",
    "#print(iris_df.target)\n",
    "#iris_df.target_names = ['y','y2','y3']\n",
    "# Target Names\n",
    "#print(iris_df.target_names)\n",
    "label = {0: 'red', 1: 'blue', 2: 'green'}\n",
    "\n",
    "# Dataset Slicing\n",
    "#x_axis = iris_df.data[:, 0]  # Sepal Length\n",
    "#y_axis = iris_df.data[:, 2]  # Sepal Width\n",
    "x = np.array(X[:,:1])\n",
    "x2 = X[:,1:2]\n",
    "print(x)\n",
    "y = \n",
    "print(y)\n",
    "# Plotting\n",
    "plt.scatter(x, x2, c=y)\n",
    "plt.show()"
   ]
  },
  {
   "cell_type": "code",
   "execution_count": 22,
   "metadata": {},
   "outputs": [
    {
     "name": "stdout",
     "output_type": "stream",
     "text": [
      "[[  52.6   71.9   66.4 ...  417.   403.  1265. ]\n",
      " [  64.2   72.5   65.  ...  454.   444.  1367. ]\n",
      " [  77.    74.    80.9 ...  550.   555.  1700. ]\n",
      " ...\n",
      " [  61.5   78.7   66.7 ...  476.   476.  1446. ]\n",
      " [  62.3   77.7   66.5 ...  490.   487.  1473. ]\n",
      " [  52.8   69.8   66.7 ...  374.   378.  1141. ]]\n",
      "[1265. 1367. 1700. 1889. 1704. 1327. 1511. 2144. 1358. 1147. 1292. 1479.\n",
      " 1116. 1529. 1257. 1388. 1226. 1480. 1781. 1234. 1647. 1556. 1390. 1135.\n",
      " 1176. 1090. 1194. 1252. 1188. 1182. 1121. 1268. 1223. 1214. 1314. 1276.\n",
      " 2041. 1291. 2013. 1255. 1407. 1248. 1240. 1192. 1128. 1327. 1182. 1896.\n",
      " 1216. 1435. 1334. 1188. 1313. 1643. 1179. 1386. 1099. 1327. 1360. 1420.\n",
      " 1322. 1287. 1285. 1451. 1326. 1580. 1386. 1640. 1404. 1313. 1277. 1224.\n",
      " 1290. 1211. 1427. 1335. 1431. 1314. 1256. 1981. 1578. 1530. 1184. 1487.\n",
      " 1326. 1285. 1218. 1214. 1397. 1193. 1410. 1485. 1306. 1457. 1248. 1253.\n",
      " 1346. 1316. 1265. 1622. 1274. 1245. 1409. 1344. 1284. 1355. 1446. 1473.\n",
      " 1141.]\n"
     ]
    }
   ],
   "source": [
    "\n",
    "import matplotlib.pyplot as plt\n",
    "from sklearn.cluster import DBSCAN, KMeans\n",
    "from sklearn.decomposition import PCA\n",
    "\n",
    "# Load Dataset\n",
    "dataset = np.genfromtxt('HS_Regents_Sat_Scores_2015_v2.csv', delimiter=',')\n",
    "X = dataset[1:,1:]\n",
    "Y = dataset[1:, -1]\n",
    "print(X)\n",
    "print(Y)\n"
   ]
  },
  {
   "cell_type": "code",
   "execution_count": 15,
   "metadata": {},
   "outputs": [
    {
     "name": "stdout",
     "output_type": "stream",
     "text": [
      "109\n",
      "-1\n",
      "-1\n",
      "-1\n",
      "-1\n",
      "-1\n",
      "-1\n",
      "-1\n",
      "-1\n",
      "-1\n",
      "-1\n",
      "-1\n",
      "-1\n",
      "-1\n",
      "-1\n",
      "-1\n",
      "-1\n",
      "-1\n",
      "-1\n",
      "-1\n",
      "-1\n",
      "-1\n",
      "-1\n",
      "-1\n",
      "-1\n",
      "-1\n",
      "-1\n",
      "-1\n",
      "-1\n",
      "-1\n",
      "-1\n",
      "-1\n",
      "-1\n",
      "-1\n",
      "-1\n",
      "-1\n",
      "-1\n",
      "-1\n",
      "-1\n",
      "-1\n",
      "-1\n",
      "-1\n",
      "-1\n",
      "-1\n",
      "-1\n",
      "-1\n",
      "-1\n",
      "-1\n",
      "-1\n",
      "-1\n",
      "-1\n",
      "-1\n",
      "-1\n",
      "-1\n",
      "-1\n",
      "-1\n",
      "-1\n",
      "-1\n",
      "-1\n",
      "-1\n",
      "-1\n",
      "-1\n",
      "-1\n",
      "-1\n",
      "-1\n",
      "-1\n",
      "-1\n",
      "-1\n",
      "-1\n",
      "-1\n",
      "-1\n",
      "-1\n",
      "-1\n",
      "-1\n",
      "-1\n",
      "-1\n",
      "-1\n",
      "-1\n",
      "-1\n",
      "-1\n",
      "-1\n",
      "-1\n",
      "-1\n",
      "-1\n",
      "-1\n",
      "-1\n",
      "-1\n",
      "-1\n",
      "-1\n",
      "-1\n",
      "-1\n",
      "-1\n",
      "-1\n",
      "-1\n",
      "-1\n",
      "-1\n",
      "-1\n",
      "-1\n",
      "-1\n",
      "-1\n",
      "-1\n",
      "-1\n",
      "-1\n",
      "-1\n",
      "-1\n",
      "-1\n",
      "-1\n",
      "-1\n",
      "-1\n",
      "-1\n"
     ]
    },
    {
     "ename": "NameError",
     "evalue": "name 'c1' is not defined",
     "output_type": "error",
     "traceback": [
      "\u001b[0;31m---------------------------------------------------------------------------\u001b[0m",
      "\u001b[0;31mNameError\u001b[0m                                 Traceback (most recent call last)",
      "\u001b[0;32m<ipython-input-15-c4a876413911>\u001b[0m in \u001b[0;36m<module>\u001b[0;34m()\u001b[0m\n\u001b[1;32m     19\u001b[0m         \u001b[0mc3\u001b[0m \u001b[0;34m=\u001b[0m \u001b[0mplt\u001b[0m\u001b[0;34m.\u001b[0m\u001b[0mscatter\u001b[0m\u001b[0;34m(\u001b[0m\u001b[0mpca_2d\u001b[0m\u001b[0;34m[\u001b[0m\u001b[0mi\u001b[0m\u001b[0;34m,\u001b[0m \u001b[0;36m0\u001b[0m\u001b[0;34m]\u001b[0m\u001b[0;34m,\u001b[0m \u001b[0mpca_2d\u001b[0m\u001b[0;34m[\u001b[0m\u001b[0mi\u001b[0m\u001b[0;34m,\u001b[0m \u001b[0;36m1\u001b[0m\u001b[0;34m]\u001b[0m\u001b[0;34m,\u001b[0m \u001b[0mc\u001b[0m\u001b[0;34m=\u001b[0m\u001b[0;34m'b'\u001b[0m\u001b[0;34m,\u001b[0m \u001b[0mmarker\u001b[0m\u001b[0;34m=\u001b[0m\u001b[0;34m'*'\u001b[0m\u001b[0;34m)\u001b[0m\u001b[0;34m\u001b[0m\u001b[0m\n\u001b[1;32m     20\u001b[0m \u001b[0;34m\u001b[0m\u001b[0m\n\u001b[0;32m---> 21\u001b[0;31m \u001b[0mplt\u001b[0m\u001b[0;34m.\u001b[0m\u001b[0mlegend\u001b[0m\u001b[0;34m(\u001b[0m\u001b[0;34m[\u001b[0m\u001b[0mc1\u001b[0m\u001b[0;34m,\u001b[0m \u001b[0mc2\u001b[0m\u001b[0;34m,\u001b[0m \u001b[0mc3\u001b[0m\u001b[0;34m]\u001b[0m\u001b[0;34m,\u001b[0m \u001b[0;34m[\u001b[0m\u001b[0;34m'Cluster 1'\u001b[0m\u001b[0;34m,\u001b[0m \u001b[0;34m'Cluster 2'\u001b[0m\u001b[0;34m,\u001b[0m \u001b[0;34m'Noise'\u001b[0m\u001b[0;34m]\u001b[0m\u001b[0;34m)\u001b[0m\u001b[0;34m\u001b[0m\u001b[0m\n\u001b[0m\u001b[1;32m     22\u001b[0m \u001b[0mplt\u001b[0m\u001b[0;34m.\u001b[0m\u001b[0mtitle\u001b[0m\u001b[0;34m(\u001b[0m\u001b[0;34m'DBSCAN finds 2 clusters and Noise'\u001b[0m\u001b[0;34m)\u001b[0m\u001b[0;34m\u001b[0m\u001b[0m\n\u001b[1;32m     23\u001b[0m \u001b[0mplt\u001b[0m\u001b[0;34m.\u001b[0m\u001b[0mshow\u001b[0m\u001b[0;34m(\u001b[0m\u001b[0;34m)\u001b[0m\u001b[0;34m\u001b[0m\u001b[0m\n",
      "\u001b[0;31mNameError\u001b[0m: name 'c1' is not defined"
     ]
    },
    {
     "data": {
      "image/png": "[encoded data removed]",
      "text/plain": [
       "<Figure size 432x288 with 1 Axes>"
      ]
     },
     "metadata": {
      "needs_background": "light"
     },
     "output_type": "display_data"
    }
   ],
   "source": [
    "# Declaring Model\n",
    "dbscan = DBSCAN()\n",
    "\n",
    "# Fitting\n",
    "dbscan.fit(X)\n",
    "\n",
    "# Transoring Using PCA\n",
    "pca = PCA(n_components=2).fit(X)\n",
    "pca_2d = pca.transform(X)\n",
    "print(pca_2d.shape[0])\n",
    "# Plot based on Class\n",
    "for i in range(0, pca_2d.shape[0]):\n",
    "    print(dbscan.labels_[i])\n",
    "    if dbscan.labels_[i] == 0:\n",
    "        c1 = plt.scatter(pca_2d[i, 0], pca_2d[i, 1], c='r', marker='+')\n",
    "    elif dbscan.labels_[i] == 1:\n",
    "        c2 = plt.scatter(pca_2d[i, 0], pca_2d[i, 1], c='g', marker='o')\n",
    "    elif dbscan.labels_[i] == -1:\n",
    "        c3 = plt.scatter(pca_2d[i, 0], pca_2d[i, 1], c='b', marker='*')\n",
    "\n",
    "plt.legend([c1, c2, c3], ['Cluster 1', 'Cluster 2', 'Noise'])\n",
    "plt.title('DBSCAN finds 2 clusters and Noise')\n",
    "plt.show()"
   ]
  },
  {
   "cell_type": "code",
   "execution_count": null,
   "metadata": {},
   "outputs": [],
   "source": []
  }
 ],
 "metadata": {
  "kernelspec": {
   "display_name": "Python 3",
   "language": "python",
   "name": "python3"
  },
  "language_info": {
   "codemirror_mode": {
    "name": "ipython",
    "version": 3
   },
   "file_extension": ".py",
   "mimetype": "text/x-python",
   "name": "python",
   "nbconvert_exporter": "python",
   "pygments_lexer": "ipython3",
   "version": "3.6.4"
  }
 },
 "nbformat": 4,
 "nbformat_minor": 2
}
