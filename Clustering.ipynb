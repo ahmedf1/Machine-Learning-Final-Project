{
 "cells": [
  {
   "cell_type": "markdown",
   "metadata": {},
   "source": [
    "Clustering using kmeans"
   ]
  },
  {
   "cell_type": "code",
   "execution_count": 1,
   "metadata": {},
   "outputs": [
    {
     "name": "stdout",
     "output_type": "stream",
     "text": [
      "[1265. 1367. 1700. 1889. 1704. 1327. 1511. 2144. 1358. 1147. 1292. 1479.\n",
      " 1116. 1529. 1257. 1388. 1226. 1480. 1781. 1234. 1647. 1556. 1390. 1135.\n",
      " 1176. 1090. 1194. 1252. 1188. 1182. 1121. 1268. 1223. 1214. 1314. 1276.\n",
      " 2041. 1291. 2013. 1255. 1407. 1248. 1240. 1192. 1128. 1327. 1182. 1896.\n",
      " 1216. 1435. 1334. 1188. 1313. 1643. 1179. 1386. 1099. 1327. 1360. 1420.\n",
      " 1322. 1287. 1285. 1451. 1326. 1580. 1386. 1640. 1404. 1313. 1277. 1224.\n",
      " 1290. 1211. 1427. 1335. 1431. 1314. 1256. 1981. 1578. 1530. 1184. 1487.\n",
      " 1326. 1285. 1218. 1214. 1397. 1193. 1410. 1485. 1306. 1457. 1248. 1253.\n",
      " 1346. 1316. 1265. 1622. 1274. 1245. 1409. 1344. 1284. 1355. 1446. 1473.\n",
      " 1141.]\n"
     ]
    }
   ],
   "source": [
    "# Importing Modules\n",
    "from sklearn import datasets\n",
    "import matplotlib.pyplot as plt\n",
    "from sklearn.cluster import KMeans\n",
    "import numpy as np\n",
    "\n",
    "# Loading dataset\n",
    "dataset = np.genfromtxt('HS_Regents_Sat_Scores_2015_v2.csv', delimiter=',')\n",
    "X = dataset[1:,4:] \n",
    "Y = dataset[1:, -1]\n",
    "\n",
    "print(Y)\n",
    "#ranges = [(0, 7), (12, 15)]\n",
    "#print ([item for start, end in ranges for item in X[:,start:end]])\n",
    "\n",
    "\n"
   ]
  },
  {
   "cell_type": "code",
   "execution_count": 2,
   "metadata": {},
   "outputs": [
    {
     "name": "stdout",
     "output_type": "stream",
     "text": [
      "[[  60.48536585   75.13414634   68.32926829   71.20731707   68.86585366\n",
      "    73.57073171   66.73414634   67.87317073  477.12195122  454.75609756\n",
      "   450.51219512 1382.3902439 ]\n",
      " [  86.71666667   91.01666667   89.51666667   93.48333333   89.71666667\n",
      "    92.7          85.26666667   86.25        690.          649.\n",
      "   655.         1994.        ]\n",
      " [  54.21836735   68.82857143   62.05714286   64.23469388   65.32244898\n",
      "    67.43877551   61.41836735   61.31020408  415.08163265  405.40816327\n",
      "   398.04081633 1218.53061224]\n",
      " [  75.03846154   80.98461538   78.72307692   81.70769231   73.40769231\n",
      "    82.63076923   73.86923077   74.32307692  566.38461538  523.07692308\n",
      "   527.53846154 1617.        ]]\n"
     ]
    },
    {
     "data": {
      "text/plain": [
       "<matplotlib.collections.PathCollection at 0xd440170>"
      ]
     },
     "execution_count": 2,
     "metadata": {},
     "output_type": "execute_result"
    },
    {
     "data": {
      "image/png": "[encoded data removed]",
      "text/plain": [
       "<Figure size 432x288 with 1 Axes>"
      ]
     },
     "metadata": {
      "needs_background": "light"
     },
     "output_type": "display_data"
    }
   ],
   "source": [
    "\n",
    "# create kmeans object\n",
    "kmeans = KMeans(n_clusters=4)\n",
    "# fit kmeans object to data\n",
    "kmeans.fit(X)\n",
    "# print location of clusters learned by kmeans object\n",
    "print(kmeans.cluster_centers_)\n",
    "# save new clusters for chart\n",
    "y_km = kmeans.fit_predict(X)\n",
    "\n",
    "plt.scatter(X[y_km ==0,0], X[y_km == 0,1], s=100, c='red')\n",
    "plt.scatter(X[y_km ==1,0], X[y_km == 1,1], s=100, c='black')\n",
    "plt.scatter(X[y_km ==2,0], X[y_km == 2,1], s=100, c='blue')\n",
    "plt.scatter(X[y_km ==3,0], X[y_km == 3,1], s=100, c='cyan')\n",
    "\n"
   ]
  },
  {
   "cell_type": "code",
   "execution_count": 3,
   "metadata": {},
   "outputs": [
    {
     "ename": "SyntaxError",
     "evalue": "invalid syntax (<ipython-input-3-bc58b8c117d6>, line 21)",
     "output_type": "error",
     "traceback": [
      "\u001b[1;36m  File \u001b[1;32m\"<ipython-input-3-bc58b8c117d6>\"\u001b[1;36m, line \u001b[1;32m21\u001b[0m\n\u001b[1;33m    y =\u001b[0m\n\u001b[1;37m        ^\u001b[0m\n\u001b[1;31mSyntaxError\u001b[0m\u001b[1;31m:\u001b[0m invalid syntax\n"
     ]
    }
   ],
   "source": [
    "\n",
    "# Available methods on dataset\n",
    "#print(dir(iris_df))\n",
    "\n",
    "# Features\n",
    "#print(iris_df.feature_names)\n",
    "\n",
    "# Targets\n",
    "#print(iris_df.target)\n",
    "#iris_df.target_names = ['y','y2','y3']\n",
    "# Target Names\n",
    "#print(iris_df.target_names)\n",
    "label = {0: 'red', 1: 'blue', 2: 'green'}\n",
    "\n",
    "# Dataset Slicing\n",
    "#x_axis = iris_df.data[:, 0]  # Sepal Length\n",
    "#y_axis = iris_df.data[:, 2]  # Sepal Width\n",
    "x = np.array(X[:,:1])\n",
    "x2 = X[:,1:2]\n",
    "print(x)\n",
    "y = \n",
    "print(y)\n",
    "# Plotting\n",
    "plt.scatter(x, x2, c=y)\n",
    "plt.show()"
   ]
  },
  {
   "cell_type": "code",
   "execution_count": null,
   "metadata": {},
   "outputs": [],
   "source": [
    "\n",
    "import matplotlib.pyplot as plt\n",
    "from sklearn.cluster import DBSCAN, KMeans\n",
    "from sklearn.decomposition import PCA\n",
    "\n",
    "# Load Dataset\n",
    "dataset = np.genfromtxt('HS_Regents_Sat_Scores_2015_v2.csv', delimiter=',')\n",
    "X = dataset[1:,1:]\n",
    "Y = dataset[1:, -1]\n",
    "print(X)\n",
    "print(Y)\n"
   ]
  },
  {
   "cell_type": "code",
   "execution_count": 15,
   "metadata": {},
   "outputs": [
    {
     "name": "stdout",
     "output_type": "stream",
     "text": [
      "109\n",
      "-1\n",
      "-1\n",
      "-1\n",
      "-1\n",
      "-1\n",
      "-1\n",
      "-1\n",
      "-1\n",
      "-1\n",
      "-1\n",
      "-1\n",
      "-1\n",
      "-1\n",
      "-1\n",
      "-1\n",
      "-1\n",
      "-1\n",
      "-1\n",
      "-1\n",
      "-1\n",
      "-1\n",
      "-1\n",
      "-1\n",
      "-1\n",
      "-1\n",
      "-1\n",
      "-1\n",
      "-1\n",
      "-1\n",
      "-1\n",
      "-1\n",
      "-1\n",
      "-1\n",
      "-1\n",
      "-1\n",
      "-1\n",
      "-1\n",
      "-1\n",
      "-1\n",
      "-1\n",
      "-1\n",
      "-1\n",
      "-1\n",
      "-1\n",
      "-1\n",
      "-1\n",
      "-1\n",
      "-1\n",
      "-1\n",
      "-1\n",
      "-1\n",
      "-1\n",
      "-1\n",
      "-1\n",
      "-1\n",
      "-1\n",
      "-1\n",
      "-1\n",
      "-1\n",
      "-1\n",
      "-1\n",
      "-1\n",
      "-1\n",
      "-1\n",
      "-1\n",
      "-1\n",
      "-1\n",
      "-1\n",
      "-1\n",
      "-1\n",
      "-1\n",
      "-1\n",
      "-1\n",
      "-1\n",
      "-1\n",
      "-1\n",
      "-1\n",
      "-1\n",
      "-1\n",
      "-1\n",
      "-1\n",
      "-1\n",
      "-1\n",
      "-1\n",
      "-1\n",
      "-1\n",
      "-1\n",
      "-1\n",
      "-1\n",
      "-1\n",
      "-1\n",
      "-1\n",
      "-1\n",
      "-1\n",
      "-1\n",
      "-1\n",
      "-1\n",
      "-1\n",
      "-1\n",
      "-1\n",
      "-1\n",
      "-1\n",
      "-1\n",
      "-1\n",
      "-1\n",
      "-1\n",
      "-1\n",
      "-1\n",
      "-1\n"
     ]
    },
    {
     "ename": "NameError",
     "evalue": "name 'c1' is not defined",
     "output_type": "error",
     "traceback": [
      "\u001b[0;31m---------------------------------------------------------------------------\u001b[0m",
      "\u001b[0;31mNameError\u001b[0m                                 Traceback (most recent call last)",
      "\u001b[0;32m<ipython-input-15-c4a876413911>\u001b[0m in \u001b[0;36m<module>\u001b[0;34m()\u001b[0m\n\u001b[1;32m     19\u001b[0m         \u001b[0mc3\u001b[0m \u001b[0;34m=\u001b[0m \u001b[0mplt\u001b[0m\u001b[0;34m.\u001b[0m\u001b[0mscatter\u001b[0m\u001b[0;34m(\u001b[0m\u001b[0mpca_2d\u001b[0m\u001b[0;34m[\u001b[0m\u001b[0mi\u001b[0m\u001b[0;34m,\u001b[0m \u001b[0;36m0\u001b[0m\u001b[0;34m]\u001b[0m\u001b[0;34m,\u001b[0m \u001b[0mpca_2d\u001b[0m\u001b[0;34m[\u001b[0m\u001b[0mi\u001b[0m\u001b[0;34m,\u001b[0m \u001b[0;36m1\u001b[0m\u001b[0;34m]\u001b[0m\u001b[0;34m,\u001b[0m \u001b[0mc\u001b[0m\u001b[0;34m=\u001b[0m\u001b[0;34m'b'\u001b[0m\u001b[0;34m,\u001b[0m \u001b[0mmarker\u001b[0m\u001b[0;34m=\u001b[0m\u001b[0;34m'*'\u001b[0m\u001b[0;34m)\u001b[0m\u001b[0;34m\u001b[0m\u001b[0m\n\u001b[1;32m     20\u001b[0m \u001b[0;34m\u001b[0m\u001b[0m\n\u001b[0;32m---> 21\u001b[0;31m \u001b[0mplt\u001b[0m\u001b[0;34m.\u001b[0m\u001b[0mlegend\u001b[0m\u001b[0;34m(\u001b[0m\u001b[0;34m[\u001b[0m\u001b[0mc1\u001b[0m\u001b[0;34m,\u001b[0m \u001b[0mc2\u001b[0m\u001b[0;34m,\u001b[0m \u001b[0mc3\u001b[0m\u001b[0;34m]\u001b[0m\u001b[0;34m,\u001b[0m \u001b[0;34m[\u001b[0m\u001b[0;34m'Cluster 1'\u001b[0m\u001b[0;34m,\u001b[0m \u001b[0;34m'Cluster 2'\u001b[0m\u001b[0;34m,\u001b[0m \u001b[0;34m'Noise'\u001b[0m\u001b[0;34m]\u001b[0m\u001b[0;34m)\u001b[0m\u001b[0;34m\u001b[0m\u001b[0m\n\u001b[0m\u001b[1;32m     22\u001b[0m \u001b[0mplt\u001b[0m\u001b[0;34m.\u001b[0m\u001b[0mtitle\u001b[0m\u001b[0;34m(\u001b[0m\u001b[0;34m'DBSCAN finds 2 clusters and Noise'\u001b[0m\u001b[0;34m)\u001b[0m\u001b[0;34m\u001b[0m\u001b[0m\n\u001b[1;32m     23\u001b[0m \u001b[0mplt\u001b[0m\u001b[0;34m.\u001b[0m\u001b[0mshow\u001b[0m\u001b[0;34m(\u001b[0m\u001b[0;34m)\u001b[0m\u001b[0;34m\u001b[0m\u001b[0m\n",
      "\u001b[0;31mNameError\u001b[0m: name 'c1' is not defined"
     ]
    },
    {
     "data": {
      "image/png": "[encoded data removed]",
      "text/plain": [
       "<Figure size 432x288 with 1 Axes>"
      ]
     },
     "metadata": {
      "needs_background": "light"
     },
     "output_type": "display_data"
    }
   ],
   "source": [
    "# Declaring Model\n",
    "dbscan = DBSCAN()\n",
    "\n",
    "# Fitting\n",
    "dbscan.fit(X)\n",
    "\n",
    "# Transoring Using PCA\n",
    "pca = PCA(n_components=2).fit(X)\n",
    "pca_2d = pca.transform(X)\n",
    "print(pca_2d.shape[0])\n",
    "# Plot based on Class\n",
    "for i in range(0, pca_2d.shape[0]):\n",
    "    print(dbscan.labels_[i])\n",
    "    if dbscan.labels_[i] == 0:\n",
    "        c1 = plt.scatter(pca_2d[i, 0], pca_2d[i, 1], c='r', marker='+')\n",
    "    elif dbscan.labels_[i] == 1:\n",
    "        c2 = plt.scatter(pca_2d[i, 0], pca_2d[i, 1], c='g', marker='o')\n",
    "    elif dbscan.labels_[i] == -1:\n",
    "        c3 = plt.scatter(pca_2d[i, 0], pca_2d[i, 1], c='b', marker='*')\n",
    "\n",
    "plt.legend([c1, c2, c3], ['Cluster 1', 'Cluster 2', 'Noise'])\n",
    "plt.title('DBSCAN finds 2 clusters and Noise')\n",
    "plt.show()"
   ]
  },
  {
   "cell_type": "code",
   "execution_count": null,
   "metadata": {},
   "outputs": [],
   "source": []
  }
 ],
 "metadata": {
  "kernelspec": {
   "display_name": "Python 3",
   "language": "python",
   "name": "python3"
  }
 },
 "nbformat": 4,
 "nbformat_minor": 2
}
