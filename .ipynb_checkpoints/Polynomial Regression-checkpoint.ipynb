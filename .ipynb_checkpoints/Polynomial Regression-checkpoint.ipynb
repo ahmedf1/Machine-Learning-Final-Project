{
 "cells": [
  {
   "cell_type": "markdown",
   "metadata": {},
   "source": [
    "## Polynomial Regression"
   ]
  },
  {
   "cell_type": "markdown",
   "metadata": {},
   "source": [
    "First import some libraries to do some data manipulation, math, and modeling.\n",
    "\n",
    "For polynomial regression, you want to pick the order/degree based on both low training error and low test error. This means it generalizes well represent the test and training sets."
   ]
  },
  {
   "cell_type": "code",
   "execution_count": null,
   "metadata": {},
   "outputs": [],
   "source": [
    "import numpy as np\n",
    "import matplotlib\n",
    "import pandas as pd\n",
    "import matplotlib.pyplot as plt\n",
    "from sklearn import datasets, linear_model, preprocessing\n",
    "import numpy.polynomial.polynomial as poly\n",
    "%matplotlib inline"
   ]
  },
  {
   "cell_type": "markdown",
   "metadata": {},
   "source": [
    "## Import Data"
   ]
  },
  {
   "cell_type": "markdown",
   "metadata": {},
   "source": [
    "Use pandas module to read the file and import into a dataframe. Print the data frame to make sure that the data is being imported correctly. Using \"dataframe.values\" returns a Numpy representation of the DataFrame to be spliced according to however is necessary. Reshape the feature matrix and target vector to both be of the same rank."
   ]
  },
  {
   "cell_type": "code",
   "execution_count": null,
   "metadata": {},
   "outputs": [],
   "source": [
    "df = pd.read_csv('filename.csv')\n",
    "print(df)\n",
    "data = df.values\n",
    "X = data[:,0]\n",
    "Y = data[:,1]\n",
    "X = X.reshape(X.shape[0],1)\n",
    "Y = Y.reshape(Y.shape[0],1)"
   ]
  },
  {
   "cell_type": "markdown",
   "metadata": {},
   "source": [
    "## Training Set and Test Set"
   ]
  },
  {
   "cell_type": "markdown",
   "metadata": {},
   "source": [
    "Here the feature matrix and target vector are both partitioned into two sets, one for training and for test."
   ]
  },
  {
   "cell_type": "code",
   "execution_count": null,
   "metadata": {},
   "outputs": [],
   "source": [
    "# probably not necessary if we do k-fold validation\n",
    "X_tr = X[0:100,0]\n",
    "Y_tr = Y[0:100,0]\n",
    "X_test = X[100:200,0]\n",
    "Y_test = Y[100:200,0]"
   ]
  },
  {
   "cell_type": "markdown",
   "metadata": {},
   "source": [
    "## Plotting the Data\n",
    "\n",
    "To show the original shape of the training set."
   ]
  },
  {
   "cell_type": "code",
   "execution_count": null,
   "metadata": {},
   "outputs": [],
   "source": [
    "plt.scatter(X_tr,Y_tr)\n",
    "plt.xlabel('Training set of X')\n",
    "plt.ylabel('Training set of Y')\n",
    "plt.show()"
   ]
  },
  {
   "cell_type": "markdown",
   "metadata": {},
   "source": [
    "## Model Selection\n",
    "\n",
    "Obtain polynomial regression models of different orders starting from linear regression i.e. degree = 1 to higher degree models like degree = 2 to 10. Find training and test error for every order and plot these errors v/s degree. Select the order that fits the data best based on low training and test error. You can use poly.polyval method from numpy to find coefficients of the different models."
   ]
  },
  {
   "cell_type": "code",
   "execution_count": null,
   "metadata": {},
   "outputs": [],
   "source": [
    "Errors_test = []\n",
    "Errors_tr = []\n",
    "for degree in range(1, 11):\n",
    "    print(\"Degree: \", degree)\n",
    "    # polyfit will return array of polynomial coefficients \n",
    "    polyCoefficients = poly.polyfit(X_tr, Y_tr, degree)\n",
    "    print(\"Polynomial Coefficients: \", polyCoefficients)\n",
    "    \n",
    "    yHat_tr = poly.polyval(X_tr, polyCoefficients)\n",
    "    TrainingError = np.sum(np.square(Y_tr - yHat_tr)) * 1/(2*Y_tr.shape[0])\n",
    "    Errors_tr.append(TrainingError)\n",
    "    print(\"Training Errors: \", Errors_tr)\n",
    "    \n",
    "    yHat_test  = poly.polyval(X_test, polyCoefficients)\n",
    "    TestError = np.sum(np.square(Y_test - yHat_test)) * 1/(2*Y_test.shape[0])\n",
    "    Errors_test.append(TestError)\n",
    "    print(\"Test Errors: \", Errors_test)\n",
    "    \n",
    "    # creates evenly spaced numbers over a specified interval\n",
    "    xAxisSpacing = np.linspace(-1, 1, 150)\n",
    "    # evaluates the polynomial at all points across the xAxisSpacing\n",
    "    yAxisHat = poly.polyval(xAxisSpacing, polyCoefficients)\n",
    "    plt.xlim(-2,2)\n",
    "    plt.ylim(-25,25)\n",
    "    plt.plot(xAxisSpacing,yAxisHat, 'r-')\n",
    "    plt.scatter(X_tr,Y_tr)\n",
    "    plt.xlabel(\"Training Set of X\")\n",
    "    plt.ylabel(\"Training Set of Y\")\n",
    "    plt.xlim([-2,2])\n",
    "    plt.show()\n",
    "    \n",
    "    \n",
    "    "
   ]
  },
  {
   "cell_type": "markdown",
   "metadata": {},
   "source": [
    "Find training and test error for every order and plot these errors v/s degree. Select the order that fits the data best based on low training and test error."
   ]
  },
  {
   "cell_type": "code",
   "execution_count": null,
   "metadata": {},
   "outputs": [],
   "source": [
    "\n",
    "degree = np.array(range(1,11))\n",
    "# Plot the degree against the Training Error\n",
    "plt.plot(degree,Errors_tr)\n",
    "plt.xlabel(\"Degree Order\")\n",
    "plt.ylabel(\"Training Error\")\n",
    "plt.title(\"Training Error vs. Degree Order\")\n",
    "plt.grid()"
   ]
  },
  {
   "cell_type": "code",
   "execution_count": null,
   "metadata": {},
   "outputs": [],
   "source": [
    "degree = np.array(range(1,11))\n",
    "# Plot the degree against the Training Error\n",
    "plt.plot(degree,Errors_test)\n",
    "plt.xlabel(\"Degree Order\")\n",
    "plt.ylabel(\"Test Error\")\n",
    "plt.title(\"test Error vs. Degree Order\")\n",
    "plt.grid()"
   ]
  }
 ],
 "metadata": {
  "kernelspec": {
   "display_name": "Python 3",
   "language": "python",
   "name": "python3"
  },
  "language_info": {
   "codemirror_mode": {
    "name": "ipython",
    "version": 3
   },
   "file_extension": ".py",
   "mimetype": "text/x-python",
   "name": "python",
   "nbconvert_exporter": "python",
   "pygments_lexer": "ipython3",
   "version": "3.6.4"
  }
 },
 "nbformat": 4,
 "nbformat_minor": 2
}
