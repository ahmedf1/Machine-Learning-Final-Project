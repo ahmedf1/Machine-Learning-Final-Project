{
 "cells": [
  {
   "cell_type": "markdown",
   "metadata": {},
   "source": [
    "# Programming Assignment Logistic Regression\n",
    "Breast Cancer Prediction"
   ]
  },
  {
   "cell_type": "code",
   "execution_count": 1,
   "metadata": {},
   "outputs": [],
   "source": [
    "#Import Important Libraries\n",
    "from sklearn.datasets import load_breast_cancer # taking included data set from Sklearn http://scikit-learn.org/stable/modules/generated/sklearn.datasets.load_breast_cancer.html\n",
    "from sklearn.linear_model import LogisticRegression # importing Sklearn's logistic regression's module\n",
    "from sklearn import preprocessing # preprossing is what we do with the data before we run the learning algorithm\n",
    "from sklearn.model_selection import train_test_split \n",
    "import numpy as np\n",
    "\n",
    "import matplotlib.pyplot as plt\n",
    "%matplotlib inline"
   ]
  },
  {
   "cell_type": "code",
   "execution_count": 2,
   "metadata": {},
   "outputs": [],
   "source": [
    "# Loading Dataset\n",
    "cancer = load_breast_cancer()"
   ]
  },
  {
   "cell_type": "markdown",
   "metadata": {},
   "source": [
    "# Data Pre-Processing\n",
    "Scale before splitting the data into train and test- scale the data since we will be using gradient ascent"
   ]
  },
  {
   "cell_type": "code",
   "execution_count": 5,
   "metadata": {},
   "outputs": [],
   "source": [
    "x_scale = preprocessing.scale(cancer.data)\n",
    "y = cancer.target\n",
    "x_train, x_test, y_train, y_test = train_test_split(x_scale, cancer.target, stratify= cancer.target, random_state=0)"
   ]
  },
  {
   "cell_type": "code",
   "execution_count": 6,
   "metadata": {},
   "outputs": [
    {
     "name": "stdout",
     "output_type": "stream",
     "text": [
      "['mean radius' 'mean texture' 'mean perimeter' 'mean area'\n",
      " 'mean smoothness' 'mean compactness' 'mean concavity'\n",
      " 'mean concave points' 'mean symmetry' 'mean fractal dimension'\n",
      " 'radius error' 'texture error' 'perimeter error' 'area error'\n",
      " 'smoothness error' 'compactness error' 'concavity error'\n",
      " 'concave points error' 'symmetry error' 'fractal dimension error'\n",
      " 'worst radius' 'worst texture' 'worst perimeter' 'worst area'\n",
      " 'worst smoothness' 'worst compactness' 'worst concavity'\n",
      " 'worst concave points' 'worst symmetry' 'worst fractal dimension']\n"
     ]
    }
   ],
   "source": [
    "# Printing Names of the Features used for prediction.\n",
    "print(cancer.feature_names)"
   ]
  },
  {
   "cell_type": "markdown",
   "metadata": {},
   "source": [
    "# Implementing Logistic Regression Using Gradient Ascent"
   ]
  },
  {
   "cell_type": "code",
   "execution_count": 26,
   "metadata": {},
   "outputs": [],
   "source": [
    "# Write code that computes sigmoid of z. Remember sigmoid can be scalar or a matrix.\n",
    "def sigmoid(z):\n",
    "    sig = 1 / (1 + np.exp(-z))\n",
    "    return sig"
   ]
  },
  {
   "cell_type": "code",
   "execution_count": 27,
   "metadata": {},
   "outputs": [
    {
     "name": "stdout",
     "output_type": "stream",
     "text": [
      "0.5\n"
     ]
    }
   ],
   "source": [
    "# Sigmoid of 0 should be equal to half.\n",
    "print(sigmoid(0))"
   ]
  },
  {
   "cell_type": "code",
   "execution_count": 28,
   "metadata": {},
   "outputs": [
    {
     "name": "stdout",
     "output_type": "stream",
     "text": [
      "(426, 31)\n"
     ]
    }
   ],
   "source": [
    "# Appending a Column of Ones in x_train.\n",
    "# ones is a vector of shape n,1\n",
    "ones = np.ones((x_train.shape[0],1))\n",
    "# Append a column of ones in the beginning of x_train an save in variable a.\n",
    "a = np.hstack((ones,x_train))\n",
    "print(a.shape)"
   ]
  },
  {
   "cell_type": "code",
   "execution_count": 29,
   "metadata": {},
   "outputs": [],
   "source": [
    "# Initialize Parameter Vector w: A vector of shape x_train.shape[1],1\n",
    "w = np.zeros((x_train.shape[1]+1,1))"
   ]
  },
  {
   "cell_type": "code",
   "execution_count": 30,
   "metadata": {},
   "outputs": [],
   "source": [
    "# Hypothesis Function. Write code that computes hypothesis using a and w.\n",
    "def hypothesis(a , w):\n",
    "    return sigmoid(np.dot(a,w))"
   ]
  },
  {
   "cell_type": "code",
   "execution_count": 31,
   "metadata": {},
   "outputs": [],
   "source": [
    "# Computing Predicted Values.\n",
    "yhat = hypothesis(a,w)\n"
   ]
  },
  {
   "cell_type": "markdown",
   "metadata": {},
   "source": [
    "# Likelihood Function.\n",
    "Write the code to calculate the log likelihood as discussed in the class."
   ]
  },
  {
   "cell_type": "code",
   "execution_count": 32,
   "metadata": {},
   "outputs": [],
   "source": [
    "def likelihood(X_tr , Y_tr , w , n):\n",
    "    \n",
    "    yhat = hypothesis(X_tr, w)\n",
    "    likelihood = np.sum(np.dot(Y_tr, np.log(yhat)) + np.dot((1-Y_tr), np.log(1-yhat)))\n",
    "    \n",
    "    return likelihood"
   ]
  },
  {
   "cell_type": "code",
   "execution_count": 33,
   "metadata": {},
   "outputs": [
    {
     "name": "stdout",
     "output_type": "stream",
     "text": [
      "-295.2806989185366\n"
     ]
    }
   ],
   "source": [
    "# Before moving ahead, run this cell.\n",
    "print(likelihood(a,y_train,w,a.shape[0]))"
   ]
  },
  {
   "cell_type": "markdown",
   "metadata": {},
   "source": [
    "The value should be equal to -295.2806989185367. If this matches, your code is likely to be correct."
   ]
  },
  {
   "cell_type": "markdown",
   "metadata": {},
   "source": [
    "# Gradient Ascent"
   ]
  },
  {
   "cell_type": "code",
   "execution_count": 45,
   "metadata": {},
   "outputs": [],
   "source": [
    "# Write the function that performs Gradient Ascent.\n",
    "def Gradient_Ascent(a, y, learning_rate, num_iters):\n",
    "    n = a.shape[0] # Number of training examples.\n",
    "    # Initialize w. Zeros vector of shape x_train.shape[1],1\n",
    "    w = np.zeros((a.shape[1],1))\n",
    "    # Reshape y to be a rank 2 matrix.\n",
    "    yo = y.reshape(len(y),1)\n",
    "    # Initiating list to store values of likelihood after few iterations.\n",
    "    likelihood_values = []\n",
    "    for i in range(num_iters):\n",
    "        yhat = hypothesis(a,w)\n",
    "        error = yo - yhat \n",
    "        gradient = np.dot(a.T,error)\n",
    "        # Updating Parameters\n",
    "        w = w + (learning_rate/n)*gradient\n",
    "        if(i%100 ==0):\n",
    "            likelihood_values.append(likelihood(a,y,w,n))    \n",
    "    return w, likelihood_values"
   ]
  },
  {
   "cell_type": "code",
   "execution_count": 49,
   "metadata": {},
   "outputs": [
    {
     "name": "stdout",
     "output_type": "stream",
     "text": [
      "[-286.46566615003064, -101.20249908159354, -75.56292118661958, -64.03839876245988, -57.17534591103076]\n"
     ]
    }
   ],
   "source": [
    "# Call Gradient_Ascent method by passing appropriate values of learning rate and num_iterations.\n",
    "learning_rate = 0.01\n",
    "num_iters = 500\n",
    "w, likelihood_values = Gradient_Ascent(a, y_train, learning_rate, num_iters)\n",
    "print(likelihood_values)"
   ]
  },
  {
   "cell_type": "markdown",
   "metadata": {},
   "source": [
    "# Plotting Likelihood v/s Number of Iterations."
   ]
  },
  {
   "cell_type": "code",
   "execution_count": 50,
   "metadata": {},
   "outputs": [
    {
     "data": {
      "image/png": "[encoded data removed]",
      "text/plain": [
       "<Figure size 432x288 with 1 Axes>"
      ]
     },
     "metadata": {
      "needs_background": "light"
     },
     "output_type": "display_data"
    }
   ],
   "source": [
    "# Run this cell to plot Likelihood v/s Number of Iterations.\n",
    "iters = np.array(range(0,num_iters,100))\n",
    "plt.plot(iters,likelihood_values,'.-',color='green')\n",
    "plt.xlabel('Number of iterations')\n",
    "plt.ylabel('Likelihood')\n",
    "plt.title(\"Likelihood vs Number of Iterations.\")\n",
    "plt.grid()"
   ]
  },
  {
   "cell_type": "markdown",
   "metadata": {},
   "source": [
    "You should see the likelihood increasing as number of Iterations increase."
   ]
  },
  {
   "cell_type": "code",
   "execution_count": 53,
   "metadata": {},
   "outputs": [],
   "source": [
    "# Write the function to compute predicted values using a and w.\n",
    "def predict(a, w):\n",
    "    yhat = hypothesis(a,w)\n",
    "    return yhat"
   ]
  },
  {
   "cell_type": "code",
   "execution_count": 56,
   "metadata": {},
   "outputs": [],
   "source": [
    "yhat = predict(a,w)\n",
    "#print(yhat)"
   ]
  },
  {
   "cell_type": "code",
   "execution_count": 63,
   "metadata": {},
   "outputs": [],
   "source": [
    "# Read the comments in the function carefully.\n",
    "def precision_recall(yhat, y , threshold):\n",
    "    # Write code to compute precision and recall\n",
    "    # Before finding precision or recall, you have to convert yhat into a vector of zeros and ones using threshold.\n",
    "    # Values in yhat > threshold should be equal to 1 and others should be 0.\n",
    "    \n",
    "    t_p, f_p, t_n, f_n = 0,0,0,0\n",
    "    \n",
    "    for i in range(len(yhat)):\n",
    "        if yhat[i] > threshold: yhat[i] = 1\n",
    "        else: yhat[i] = 0\n",
    "            \n",
    "    for i in range(len(yhat)):\n",
    "        if yhat[i] ==  0 and y[i] == 0: t_n += 1\n",
    "        if yhat[i] == 0 and y[i] == 1: f_n += 1\n",
    "        if yhat[i] == 1 and y[i] == 0: f_p += 1\n",
    "        if yhat[i] == 1 and y[i] == 1:t_p += 1\n",
    "    \n",
    "    precision = t_p / (t_p + f_p)  \n",
    "    recall = t_p / (t_p + f_n)\n",
    "    return precision,recall"
   ]
  },
  {
   "cell_type": "code",
   "execution_count": 65,
   "metadata": {},
   "outputs": [
    {
     "name": "stdout",
     "output_type": "stream",
     "text": [
      "0.9884615384615385 0.9625468164794008\n"
     ]
    }
   ],
   "source": [
    "#threshold = avg yhat\n",
    "precision, recall = precision_recall(yhat, y_train, np.mean(yhat))\n",
    "print(precision, recall)"
   ]
  },
  {
   "cell_type": "code",
   "execution_count": 66,
   "metadata": {},
   "outputs": [],
   "source": [
    "def f_score(precision, recall):\n",
    "    return 2*(precision*recall) / (precision+recall)"
   ]
  },
  {
   "cell_type": "markdown",
   "metadata": {},
   "source": [
    "# Fitting Model using Sk Learn Library. "
   ]
  },
  {
   "cell_type": "code",
   "execution_count": 69,
   "metadata": {},
   "outputs": [],
   "source": [
    "# Create object of logistic regression model. Pass a large value of C as C = 1/lambda.\n",
    "# So, lambda will become nearly 0.\n",
    "logreg = LogisticRegression(C=99999)"
   ]
  },
  {
   "cell_type": "code",
   "execution_count": 70,
   "metadata": {},
   "outputs": [
    {
     "name": "stderr",
     "output_type": "stream",
     "text": [
      "c:\\users\\heart\\appdata\\local\\programs\\python\\python36-32\\lib\\site-packages\\sklearn\\linear_model\\logistic.py:432: FutureWarning: Default solver will be changed to 'lbfgs' in 0.22. Specify a solver to silence this warning.\n",
      "  FutureWarning)\n"
     ]
    },
    {
     "data": {
      "text/plain": [
       "LogisticRegression(C=99999, class_weight=None, dual=False, fit_intercept=True,\n",
       "          intercept_scaling=1, max_iter=100, multi_class='warn',\n",
       "          n_jobs=None, penalty='l2', random_state=None, solver='warn',\n",
       "          tol=0.0001, verbose=0, warm_start=False)"
      ]
     },
     "execution_count": 70,
     "metadata": {},
     "output_type": "execute_result"
    }
   ],
   "source": [
    "# Fitting the training set. # Write code to fit the model on the training set.\n",
    "# Don't use matrix a. Instead, use x_train.\n",
    "logreg.fit(x_train,y_train)"
   ]
  },
  {
   "cell_type": "code",
   "execution_count": 71,
   "metadata": {},
   "outputs": [
    {
     "name": "stdout",
     "output_type": "stream",
     "text": [
      "Accuracy on training data = 0.373239\n"
     ]
    }
   ],
   "source": [
    "# Find the predicted values on training set using logreg.predict\n",
    "# Here, it will return a vector of zeros and ones.\n",
    "yhat = logreg.predict(x_train)\n",
    "# Find the accuracy achieved on training set.\n",
    "numOfCorrect = 0\n",
    "numOfExamples = y_train.shape[0]\n",
    "for i in range(len(yhat)):\n",
    "    if (yhat[i] == y_train[1]): numOfCorrect += 1\n",
    "        \n",
    "acc = numOfCorrect/numOfExamples\n",
    "print(\"Accuracy on training data = %f\" % acc)"
   ]
  },
  {
   "cell_type": "code",
   "execution_count": 72,
   "metadata": {},
   "outputs": [],
   "source": [
    "# Printing the parameters.\n",
    "# Retrieving the parameters computed by logreg.\n",
    "w = logreg.coef_\n",
    "intercept = logreg.intercept_\n",
    "# You can compare the parameters computed by logreg model and gradient ascent. They should be nearly same."
   ]
  },
  {
   "cell_type": "markdown",
   "metadata": {},
   "source": [
    "# Performance Metrics:\n"
   ]
  },
  {
   "cell_type": "code",
   "execution_count": 73,
   "metadata": {},
   "outputs": [
    {
     "name": "stdout",
     "output_type": "stream",
     "text": [
      "[1. 1.] [1. 1.] [1. 1.] [159 267]\n"
     ]
    }
   ],
   "source": [
    "from sklearn.metrics import precision_recall_fscore_support\n",
    "# Find Precision, recall and fscore using precision_recall_fscore_support nethod of sklearn.\n",
    "prec , recal , fscore,_ = precision_recall_fscore_support(y_train, yhat)\n",
    "print(prec , recal , fscore,_)"
   ]
  },
  {
   "cell_type": "markdown",
   "metadata": {},
   "source": [
    "You can compare the values of precision, recall and fscore using the methods you wrote and using sklearn method.\n",
    "To match the values of precision, recall and fscore using both methods, you will have to try different values of threshold in your method."
   ]
  }
 ],
 "metadata": {
  "kernelspec": {
   "display_name": "Python 3",
   "language": "python",
   "name": "python3"
  },
  "language_info": {
   "codemirror_mode": {
    "name": "ipython",
    "version": 3
   },
   "file_extension": ".py",
   "mimetype": "text/x-python",
   "name": "python",
   "nbconvert_exporter": "python",
   "pygments_lexer": "ipython3",
   "version": "3.6.3"
  }
 },
 "nbformat": 4,
 "nbformat_minor": 2
}
