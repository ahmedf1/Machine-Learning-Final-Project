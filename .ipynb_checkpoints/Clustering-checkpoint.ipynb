{
 "cells": [
  {
   "cell_type": "markdown",
   "metadata": {},
   "source": [
    "Clustering using kmeans"
   ]
  },
  {
   "cell_type": "code",
   "execution_count": 10,
   "metadata": {},
   "outputs": [
    {
     "name": "stdout",
     "output_type": "stream",
     "text": [
      "[[52.6]\n",
      " [64.2]\n",
      " [77. ]\n",
      " [81.2]\n",
      " [81.4]\n",
      " [64. ]\n",
      " [84.3]\n",
      " [92.9]\n",
      " [48.5]\n",
      " [51.3]\n",
      " [45.9]\n",
      " [67.8]\n",
      " [64.3]\n",
      " [81.9]\n",
      " [56. ]\n",
      " [54.9]\n",
      " [81.7]\n",
      " [61.5]\n",
      " [73.4]\n",
      " [42.4]\n",
      " [81.4]\n",
      " [76.9]\n",
      " [58.2]\n",
      " [55. ]\n",
      " [39.4]\n",
      " [60. ]\n",
      " [40.4]\n",
      " [62.3]\n",
      " [58.8]\n",
      " [53.9]\n",
      " [37.8]\n",
      " [45.7]\n",
      " [52.2]\n",
      " [51.1]\n",
      " [43.8]\n",
      " [53.8]\n",
      " [87.5]\n",
      " [60.8]\n",
      " [85.4]\n",
      " [47.1]\n",
      " [56.4]\n",
      " [55.6]\n",
      " [47.6]\n",
      " [54.2]\n",
      " [62.4]\n",
      " [57.2]\n",
      " [40.2]\n",
      " [82.6]\n",
      " [47. ]\n",
      " [58.5]\n",
      " [55.8]\n",
      " [33.6]\n",
      " [62.7]\n",
      " [67. ]\n",
      " [56.1]\n",
      " [57.5]\n",
      " [51.9]\n",
      " [69.7]\n",
      " [57.1]\n",
      " [67.2]\n",
      " [73.5]\n",
      " [58.1]\n",
      " [72.7]\n",
      " [56.4]\n",
      " [52.7]\n",
      " [68.9]\n",
      " [67.3]\n",
      " [74. ]\n",
      " [68.7]\n",
      " [59.7]\n",
      " [71.1]\n",
      " [49.5]\n",
      " [56.4]\n",
      " [50. ]\n",
      " [59.9]\n",
      " [47.6]\n",
      " [67.9]\n",
      " [55.4]\n",
      " [72.3]\n",
      " [90.7]\n",
      " [67. ]\n",
      " [77.8]\n",
      " [50. ]\n",
      " [62.8]\n",
      " [61.7]\n",
      " [56.5]\n",
      " [44.5]\n",
      " [59.7]\n",
      " [63. ]\n",
      " [69.1]\n",
      " [63.5]\n",
      " [73.4]\n",
      " [58.8]\n",
      " [77.7]\n",
      " [48. ]\n",
      " [43.7]\n",
      " [52.3]\n",
      " [62.4]\n",
      " [41.2]\n",
      " [64.5]\n",
      " [75.1]\n",
      " [67. ]\n",
      " [53.8]\n",
      " [58.1]\n",
      " [57.9]\n",
      " [54.5]\n",
      " [61.5]\n",
      " [62.3]\n",
      " [52.8]]\n",
      "[1265. 1367. 1700. 1889. 1704. 1327. 1511. 2144. 1358. 1147. 1292. 1479.\n",
      " 1116. 1529. 1257. 1388. 1226. 1480. 1781. 1234. 1647. 1556. 1390. 1135.\n",
      " 1176. 1090. 1194. 1252. 1188. 1182. 1121. 1268. 1223. 1214. 1314. 1276.\n",
      " 2041. 1291. 2013. 1255. 1407. 1248. 1240. 1192. 1128. 1327. 1182. 1896.\n",
      " 1216. 1435. 1334. 1188. 1313. 1643. 1179. 1386. 1099. 1327. 1360. 1420.\n",
      " 1322. 1287. 1285. 1451. 1326. 1580. 1386. 1640. 1404. 1313. 1277. 1224.\n",
      " 1290. 1211. 1427. 1335. 1431. 1314. 1256. 1981. 1578. 1530. 1184. 1487.\n",
      " 1326. 1285. 1218. 1214. 1397. 1193. 1410. 1485. 1306. 1457. 1248. 1253.\n",
      " 1346. 1316. 1265. 1622. 1274. 1245. 1409. 1344. 1284. 1355. 1446. 1473.\n",
      " 1141.]\n"
     ]
    }
   ],
   "source": [
    "# Importing Modules\n",
    "from sklearn import datasets\n",
    "import matplotlib.pyplot as plt\n",
    "from sklearn.cluster import KMeans\n",
    "import numpy as np\n",
    "\n",
    "# Loading dataset\n",
    "dataset = np.genfromtxt('HS_Regents_Sat_Scores_2015_v2.csv', delimiter=',')\n",
    "X = dataset[1:,4:] \n",
    "Y = dataset[1:, -1]\n",
    "print(X)\n",
    "print(Y)\n",
    "\n",
    "\n",
    "\n"
   ]
  },
  {
   "cell_type": "markdown",
   "metadata": {},
   "source": [
    " Create the kmeans object, fit it to the data, print the locations of cluster centers, save the clusters for the graph, and then plot."
   ]
  },
  {
   "cell_type": "code",
   "execution_count": 12,
   "metadata": {},
   "outputs": [
    {
     "name": "stdout",
     "output_type": "stream",
     "text": [
      "[[1218.53061224]\n",
      " [1617.        ]\n",
      " [1994.        ]\n",
      " [1382.3902439 ]]\n"
     ]
    },
    {
     "ename": "IndexError",
     "evalue": "index 1 is out of bounds for axis 1 with size 1",
     "output_type": "error",
     "traceback": [
      "\u001b[0;31m---------------------------------------------------------------------------\u001b[0m",
      "\u001b[0;31mIndexError\u001b[0m                                Traceback (most recent call last)",
      "\u001b[0;32m<ipython-input-12-81867001a3b0>\u001b[0m in \u001b[0;36m<module>\u001b[0;34m()\u001b[0m\n\u001b[1;32m      9\u001b[0m \u001b[0my_km\u001b[0m \u001b[0;34m=\u001b[0m \u001b[0mkmeans\u001b[0m\u001b[0;34m.\u001b[0m\u001b[0mfit_predict\u001b[0m\u001b[0;34m(\u001b[0m\u001b[0mY\u001b[0m\u001b[0;34m)\u001b[0m\u001b[0;34m\u001b[0m\u001b[0m\n\u001b[1;32m     10\u001b[0m \u001b[0;34m\u001b[0m\u001b[0m\n\u001b[0;32m---> 11\u001b[0;31m \u001b[0mplt\u001b[0m\u001b[0;34m.\u001b[0m\u001b[0mscatter\u001b[0m\u001b[0;34m(\u001b[0m\u001b[0mY\u001b[0m\u001b[0;34m[\u001b[0m\u001b[0my_km\u001b[0m \u001b[0;34m==\u001b[0m\u001b[0;36m0\u001b[0m\u001b[0;34m,\u001b[0m\u001b[0;36m0\u001b[0m\u001b[0;34m]\u001b[0m\u001b[0;34m,\u001b[0m \u001b[0mY\u001b[0m\u001b[0;34m[\u001b[0m\u001b[0my_km\u001b[0m \u001b[0;34m==\u001b[0m \u001b[0;36m0\u001b[0m\u001b[0;34m,\u001b[0m\u001b[0;36m1\u001b[0m\u001b[0;34m]\u001b[0m\u001b[0;34m,\u001b[0m \u001b[0ms\u001b[0m\u001b[0;34m=\u001b[0m\u001b[0;36m100\u001b[0m\u001b[0;34m,\u001b[0m \u001b[0mc\u001b[0m\u001b[0;34m=\u001b[0m\u001b[0;34m'red'\u001b[0m\u001b[0;34m)\u001b[0m\u001b[0;34m\u001b[0m\u001b[0m\n\u001b[0m\u001b[1;32m     12\u001b[0m \u001b[0mplt\u001b[0m\u001b[0;34m.\u001b[0m\u001b[0mscatter\u001b[0m\u001b[0;34m(\u001b[0m\u001b[0mY\u001b[0m\u001b[0;34m[\u001b[0m\u001b[0my_km\u001b[0m \u001b[0;34m==\u001b[0m\u001b[0;36m1\u001b[0m\u001b[0;34m,\u001b[0m\u001b[0;36m0\u001b[0m\u001b[0;34m]\u001b[0m\u001b[0;34m,\u001b[0m \u001b[0mY\u001b[0m\u001b[0;34m[\u001b[0m\u001b[0my_km\u001b[0m \u001b[0;34m==\u001b[0m \u001b[0;36m1\u001b[0m\u001b[0;34m,\u001b[0m\u001b[0;36m1\u001b[0m\u001b[0;34m]\u001b[0m\u001b[0;34m,\u001b[0m \u001b[0ms\u001b[0m\u001b[0;34m=\u001b[0m\u001b[0;36m100\u001b[0m\u001b[0;34m,\u001b[0m \u001b[0mc\u001b[0m\u001b[0;34m=\u001b[0m\u001b[0;34m'black'\u001b[0m\u001b[0;34m)\u001b[0m\u001b[0;34m\u001b[0m\u001b[0m\n\u001b[1;32m     13\u001b[0m \u001b[0mplt\u001b[0m\u001b[0;34m.\u001b[0m\u001b[0mscatter\u001b[0m\u001b[0;34m(\u001b[0m\u001b[0mY\u001b[0m\u001b[0;34m[\u001b[0m\u001b[0my_km\u001b[0m \u001b[0;34m==\u001b[0m\u001b[0;36m2\u001b[0m\u001b[0;34m,\u001b[0m\u001b[0;36m0\u001b[0m\u001b[0;34m]\u001b[0m\u001b[0;34m,\u001b[0m \u001b[0mY\u001b[0m\u001b[0;34m[\u001b[0m\u001b[0my_km\u001b[0m \u001b[0;34m==\u001b[0m \u001b[0;36m2\u001b[0m\u001b[0;34m,\u001b[0m\u001b[0;36m1\u001b[0m\u001b[0;34m]\u001b[0m\u001b[0;34m,\u001b[0m \u001b[0ms\u001b[0m\u001b[0;34m=\u001b[0m\u001b[0;36m100\u001b[0m\u001b[0;34m,\u001b[0m \u001b[0mc\u001b[0m\u001b[0;34m=\u001b[0m\u001b[0;34m'blue'\u001b[0m\u001b[0;34m)\u001b[0m\u001b[0;34m\u001b[0m\u001b[0m\n",
      "\u001b[0;31mIndexError\u001b[0m: index 1 is out of bounds for axis 1 with size 1"
     ]
    }
   ],
   "source": [
    "\n",
    "\n",
    "kmeans = KMeans(n_clusters=4)\n",
    "\n",
    "kmeans.fit(Y)\n",
    "\n",
    "print(kmeans.cluster_centers_)\n",
    "\n",
    "y_km = kmeans.fit_predict(Y)\n",
    "\n",
    "plt.scatter(Y[y_km ==0,0], Y[y_km == 0,1], s=100, c='red')\n",
    "plt.scatter(Y[y_km ==1,0], Y[y_km == 1,1], s=100, c='black')\n",
    "plt.scatter(Y[y_km ==2,0], Y[y_km == 2,1], s=100, c='blue')\n",
    "plt.scatter(Y[y_km ==3,0], Y[y_km == 3,1], s=100, c='cyan')\n",
    "\n",
    "centers = kmeans.cluster_centers_\n",
    "plt.scatter(centers[:, 0], centers[:, 1], c='black', s=200, alpha=0.5);\n",
    "\n",
    "\n"
   ]
  },
  {
   "cell_type": "markdown",
   "metadata": {},
   "source": [
    "Clustering using hierarchical clustering. In this instance, the results between k-means and hierarchical clustering were pretty similar. This is not always the case, however. In general, the advantage of agglomerative hierarchical clustering is that it tends to produce more accurate results. The downside is that hierarchical clustering is more difficult to implement and more time/resource consuming than k-means."
   ]
  },
  {
   "cell_type": "markdown",
   "metadata": {},
   "source": [
    "First import hierarchical clustering libraries, we can create the dendrogram but it doesn't allow us to view the graph properly so leave that out. Create clusters and print them onto the graph"
   ]
  },
  {
   "cell_type": "code",
   "execution_count": 9,
   "metadata": {},
   "outputs": [
    {
     "data": {
      "text/plain": [
       "<matplotlib.collections.PathCollection at 0x11913f3c8>"
      ]
     },
     "execution_count": 9,
     "metadata": {},
     "output_type": "execute_result"
    },
    {
     "data": {
      "image/png": "[encoded data removed]",
      "text/plain": [
       "<Figure size 432x288 with 1 Axes>"
      ]
     },
     "metadata": {
      "needs_background": "light"
     },
     "output_type": "display_data"
    }
   ],
   "source": [
    "\n",
    "import scipy.cluster.hierarchy as sch\n",
    "from sklearn.cluster import AgglomerativeClustering\n",
    "\n",
    "\n",
    "\n",
    "h_cluster = AgglomerativeClustering(n_clusters=4, affinity = 'euclidean', linkage = 'ward')\n",
    "y_hcluster = h_cluster.fit_predict(X)\n",
    "\n",
    "\n",
    "plt.scatter(X[y_hcluster ==0,0], X[y_hcluster == 0,1], s=100, c='red')\n",
    "plt.scatter(X[y_hcluster==1,0], X[y_hcluster == 1,1], s=100, c='black')\n",
    "plt.scatter(X[y_hcluster ==2,0], X[y_hcluster == 2,1], s=100, c='blue')\n",
    "plt.scatter(X[y_hcluster ==3,0], X[y_hcluster == 3,1], s=100, c='cyan')"
   ]
  },
  {
   "cell_type": "code",
   "execution_count": null,
   "metadata": {},
   "outputs": [],
   "source": []
  }
 ],
 "metadata": {
  "kernelspec": {
   "display_name": "Python 3",
   "language": "python",
   "name": "python3"
  },
  "language_info": {
   "codemirror_mode": {
    "name": "ipython",
    "version": 3
   },
   "file_extension": ".py",
   "mimetype": "text/x-python",
   "name": "python",
   "nbconvert_exporter": "python",
   "pygments_lexer": "ipython3",
   "version": "3.6.4"
  }
 },
 "nbformat": 4,
 "nbformat_minor": 2
}
